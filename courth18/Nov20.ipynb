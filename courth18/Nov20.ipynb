{
 "cells": [
  {
   "cell_type": "code",
   "execution_count": 3,
   "metadata": {},
   "outputs": [],
   "source": [
    "%matplotlib inline\n"
   ]
  },
  {
   "cell_type": "code",
   "execution_count": 5,
   "metadata": {},
   "outputs": [],
   "source": [
    "import os\n",
    "from astropy.io import fits\n",
    "import pandas as pd\n",
    "import sys\n",
    "import sqlite3\n",
    "import matplotlib.pyplot as plt\n",
    "import numpy as np\n",
    "from astropy.coordinates import SkyCoord\n",
    "import tarfile\n",
    "from astropy import units as u \n",
    "import lsst.daf.persistence as dafPersist"
   ]
  },
  {
   "cell_type": "markdown",
   "metadata": {},
   "source": [
    "## This Weeks goal\n",
    "1. Access HiTS light curve data and plot it for at least one variable object\n",
    "2. Access LSST light curve data for the same object(s) and plot it too"
   ]
  },
  {
   "cell_type": "code",
   "execution_count": 17,
   "metadata": {},
   "outputs": [
    {
     "name": "stdout",
     "output_type": "stream",
     "text": [
      "165\n"
     ]
    }
   ],
   "source": [
    "hitsDataDir= '/epyc/users/mrawls/premap2019/hits-dr1'\n",
    "hitsFilename= 'HiTS_DR1_variables_DM-dataset-subset.fits'\n",
    "hitsFilepath = os.path.join(hitsDataDir, hitsFilename)\n",
    "hitsTable= fits.open(hitsFilepath) #load data as an astropy fits thing\n",
    "hitsDf= pd.DataFrame(hitsTable[1].data) #turn data into a pandas dataframe\n",
    "hitsDf.head()#shows us (prints out) what the dataframe looks like\n",
    "print(len(hitsDf))\n",
    "#hitsDf.columns  #all of the things we can access from the data 82 columns\n"
   ]
  },
  {
   "cell_type": "code",
   "execution_count": 42,
   "metadata": {},
   "outputs": [
    {
     "name": "stdout",
     "output_type": "stream",
     "text": [
      "['Blind15A', '26', 'N1', '1715', '0146']\n",
      "Blind15A_26\n",
      "/epyc/users/mrawls/premap2019/hits-dr1/light_curves/Blind15A_26/N1/Blind15A_26_N1_LC_50.tar.gz\n"
     ]
    }
   ],
   "source": [
    "\n",
    "#Intermediate goal: get something like \"Blind15A_40_s17_LC_5-.tar.gz from a row in the dataframe\n",
    "testRow = hitsDf.iloc[0]\n",
    "testRow\n",
    "tok = testRow['internalID'].split('_')\n",
    "print(tok)\n",
    "field = '_'.join([tok[0], tok[1]])\n",
    "print(field)\n",
    "ccd = tok[2]\n",
    "lightcurveTestFile= field + '_' + ccd + '_LC_50.tar.gz'\n",
    "lightcurveTestPath= os.path.join(hitsDataDir, 'light_curves', field, ccd, lightcurveTestFile)\n",
    "print(lightcurveTestPath)"
   ]
  },
  {
   "cell_type": "code",
   "execution_count": 54,
   "metadata": {},
   "outputs": [],
   "source": [
    "def plot_hits(row, lcPath='/epyc/users/mrawls/premap2019/hits-dr1/light_curves'):\n",
    "    '''Plots light curves from HiTS dr1.\n",
    "    \n",
    "    Parameters\n",
    "    ----------\n",
    "    row: Pandas dataframe row from DR1 source data \n",
    "    lcPath: Path on disk to light curves from DR1'''\n",
    "    tok = row['internalID'].split('_')\n",
    "    ccd = tok[2]\n",
    "    field = '_'.join([tok[0], tok[1]])\n",
    "    lightcurveFile= field + '_' + ccd + '_LC_50.tar.gz'\n",
    "    #lightcurvePath= os.path.join(hitsDataDir, 'light_curves', field, ccd, lightcurveTestFile)\n",
    "    tarball = tarfile.open(os.path.join(lcPath, field, ccd, lightcurveFile))\n",
    "    data = tarball.extractfile(row['internalID'] + '_g.dat')\n",
    "    dfl = pd.read_csv(data, sep='\\t') # load a file with light curve data into the pandas datafram\n",
    "    fig = plt.figure (figsize = (6, 4))\n",
    "    plt.errorbar(dfl.MJD, dfl.MAG_AP1, dfl.MAGERR_AP1, marker='o', linestyle= ':')\n",
    "    plt.xlabel('Time (MJD)')\n",
    "    plt.ylabel('magnitude')\n",
    "    "
   ]
  },
  {
   "cell_type": "code",
   "execution_count": 56,
   "metadata": {},
   "outputs": [
    {
     "data": {
      "image/png": "[encoded data removed]",
      "text/plain": [
       "<Figure size 432x288 with 1 Axes>"
      ]
     },
     "metadata": {
      "needs_background": "light"
     },
     "output_type": "display_data"
    }
   ],
   "source": [
    "plot_hits(hitsDf.iloc[22])"
   ]
  },
  {
   "cell_type": "markdown",
   "metadata": {},
   "source": [
    "We made it through part 1 of the goals! We have a function we can use to plot any of the 165 HiTS DR1  variable object light curves. We'll pick up from here next time to do part 2 of our goals"
   ]
  },
  {
   "cell_type": "code",
   "execution_count": null,
   "metadata": {},
   "outputs": [],
   "source": []
  }
 ],
 "metadata": {
  "kernelspec": {
   "display_name": "LSST Pre-MAP 2019",
   "language": "python",
   "name": "lsst-premap"
  },
  "language_info": {
   "codemirror_mode": {
    "name": "ipython",
    "version": 3
   },
   "file_extension": ".py",
   "mimetype": "text/x-python",
   "name": "python",
   "nbconvert_exporter": "python",
   "pygments_lexer": "ipython3",
   "version": "3.7.2"
  }
 },
 "nbformat": 4,
 "nbformat_minor": 2
}
