{
 "cells": [
  {
   "cell_type": "code",
   "execution_count": 59,
   "metadata": {},
   "outputs": [],
   "source": [
    "%matplotlib inline\n"
   ]
  },
  {
   "cell_type": "code",
   "execution_count": 60,
   "metadata": {},
   "outputs": [],
   "source": [
    "import os\n",
    "from astropy.io import fits\n",
    "import pandas as pd\n",
    "import sys\n",
    "import sqlite3\n",
    "import matplotlib.pyplot as plt\n",
    "import numpy as np\n",
    "from astropy.coordinates import SkyCoord\n",
    "import tarfile\n",
    "from astropy import units as u \n",
    "import lsst.daf.persistence as dafPersist"
   ]
  },
  {
   "cell_type": "markdown",
   "metadata": {},
   "source": [
    "## This Weeks goal\n",
    "1. Access HiTS light curve data and plot it for at least one variable object\n",
    "2. Access LSST light curve data for the same object(s) and plot it too"
   ]
  },
  {
   "cell_type": "code",
   "execution_count": 61,
   "metadata": {},
   "outputs": [
    {
     "name": "stdout",
     "output_type": "stream",
     "text": [
      "165\n"
     ]
    }
   ],
   "source": [
    "hitsDataDir= '/epyc/users/mrawls/premap2019/hits-dr1'\n",
    "hitsFilename= 'HiTS_DR1_variables_DM-dataset-subset.fits'\n",
    "hitsFilepath = os.path.join(hitsDataDir, hitsFilename)\n",
    "hitsTable= fits.open(hitsFilepath) #load data as an astropy fits thing\n",
    "hitsDf= pd.DataFrame(hitsTable[1].data) #turn data into a pandas dataframe\n",
    "hitsDf.head()#shows us (prints out) what the dataframe looks like\n",
    "print(len(hitsDf))\n",
    "#hitsDf.columns  #all of the things we can access from the data 82 columns\n"
   ]
  },
  {
   "cell_type": "code",
   "execution_count": null,
   "metadata": {},
   "outputs": [],
   "source": []
  },
  {
   "cell_type": "code",
   "execution_count": 62,
   "metadata": {},
   "outputs": [
    {
     "name": "stdout",
     "output_type": "stream",
     "text": [
      "['Blind15A', '26', 'N1', '1715', '0146']\n",
      "Blind15A_26\n",
      "/epyc/users/mrawls/premap2019/hits-dr1/light_curves/Blind15A_26/N1/Blind15A_26_N1_LC_50.tar.gz\n"
     ]
    }
   ],
   "source": [
    "\n",
    "#Intermediate goal: get something like \"Blind15A_40_s17_LC_5-.tar.gz from a row in the dataframe\n",
    "testRow = hitsDf.iloc[0]\n",
    "testRow\n",
    "tok = testRow['internalID'].split('_')\n",
    "print(tok)\n",
    "field = '_'.join([tok[0], tok[1]])\n",
    "print(field)\n",
    "ccd = tok[2]\n",
    "lightcurveTestFile= field + '_' + ccd + '_LC_50.tar.gz'\n",
    "lightcurveTestPath= os.path.join(hitsDataDir, 'light_curves', field, ccd, lightcurveTestFile)\n",
    "print(lightcurveTestPath)"
   ]
  },
  {
   "cell_type": "code",
   "execution_count": 63,
   "metadata": {},
   "outputs": [],
   "source": [
    "def plot_hits(row, lcPath='/epyc/users/mrawls/premap2019/hits-dr1/light_curves'):\n",
    "    '''Plots light curves from HiTS dr1.\n",
    "    \n",
    "    Parameters\n",
    "    ----------\n",
    "    row: Pandas dataframe row from DR1 source data \n",
    "    lcPath: Path on disk to light curves from DR1'''\n",
    "    tok = row['internalID'].split('_')\n",
    "    ccd = tok[2]\n",
    "    field = '_'.join([tok[0], tok[1]])\n",
    "    lightcurveFile= field + '_' + ccd + '_LC_50.tar.gz'\n",
    "    #lightcurvePath= os.path.join(hitsDataDir, 'light_curves', field, ccd, lightcurveTestFile)\n",
    "    tarball = tarfile.open(os.path.join(lcPath, field, ccd, lightcurveFile))\n",
    "    data = tarball.extractfile(row['internalID'] + '_g.dat')\n",
    "    dfl = pd.read_csv(data, sep='\\t') # load a file with light curve data into the pandas datafram\n",
    "    fig = plt.figure (figsize = (6, 4))\n",
    "    plt.errorbar(dfl.MJD, dfl.MAG_AP1, dfl.MAGERR_AP1, marker='o', linestyle= ':')\n",
    "    plt.xlabel('Time (MJD)')\n",
    "    plt.ylabel('magnitude')\n",
    "    "
   ]
  },
  {
   "cell_type": "code",
   "execution_count": 64,
   "metadata": {},
   "outputs": [
    {
     "data": {
      "image/png": "[encoded data removed]",
      "text/plain": [
       "<Figure size 432x288 with 1 Axes>"
      ]
     },
     "metadata": {
      "needs_background": "light"
     },
     "output_type": "display_data"
    }
   ],
   "source": [
    "plot_hits(hitsDf.iloc[22])"
   ]
  },
  {
   "cell_type": "markdown",
   "metadata": {},
   "source": [
    "We made it through part 1 of the goals! We have a function we can use to plot any of the 165 HiTS DR1  variable object light curves. We'll pick up from here next time to do part 2 of our goals"
   ]
  },
  {
   "cell_type": "code",
   "execution_count": 65,
   "metadata": {},
   "outputs": [],
   "source": [
    "repo = '/epyc/users/mrawls/premap2019/hits-lsst/hits2015/rerun/highres1'\n",
    "butler = dafPersist.Butler(repo)"
   ]
  },
  {
   "cell_type": "code",
   "execution_count": 66,
   "metadata": {},
   "outputs": [],
   "source": [
    "dbName = 'association.db'\n",
    "dbPath = os.path.join(repo, dbName)"
   ]
  },
  {
   "cell_type": "markdown",
   "metadata": {},
   "source": [
    "We are connecting to the database using sqlite3. This wil run two queries to make two pandas dataframes. One is all the objects and one is all the sources. ***objects are composed of one or more sources that have been associated together based on position in the sky.***\n",
    "\n",
    "These are big dataframes so they will take a little time to load"
   ]
  },
  {
   "cell_type": "code",
   "execution_count": 67,
   "metadata": {},
   "outputs": [],
   "source": [
    "connection = sqlite3.connect(dbPath)"
   ]
  },
  {
   "cell_type": "code",
   "execution_count": 74,
   "metadata": {},
   "outputs": [],
   "source": [
    "objTable = pd.read_sql_query('select diaObjectId, ra, decl, nDiaSources, \\\n",
    "                              gPSFluxMean, gPSFluxMeanErr, \\\n",
    "                              validityEnd, flags, \\\n",
    "                              gTOTFluxMean, gTOTFluxMeanErr \\\n",
    "                              from DiaObject where validityEnd is NULL;', connection)"
   ]
  },
  {
   "cell_type": "markdown",
   "metadata": {},
   "source": [
    "Above we have imported/selected all the data from **OBJECTS** that we want from the columns to arange in a table"
   ]
  },
  {
   "cell_type": "code",
   "execution_count": 69,
   "metadata": {},
   "outputs": [],
   "source": [
    "srcTableAll = pd.read_sql_query('select diaSourceId, diaObjectId, \\\n",
    "                                  ra, decl, ccdVisitId, \\\n",
    "                                  midPointTai, apFlux, psFlux, apFluxErr, \\\n",
    "                                  psFluxErr, totFlux, totFluxErr, flags \\\n",
    "                                  from DiaSource;', connection)"
   ]
  },
  {
   "cell_type": "markdown",
   "metadata": {},
   "source": [
    "Above we have imported/selected all the data from **SOURCES** that we want from the columns ot arange in a table"
   ]
  },
  {
   "cell_type": "code",
   "execution_count": 75,
   "metadata": {},
   "outputs": [
    {
     "data": {
      "text/html": [
       "<div>\n",
       "<style scoped>\n",
       "    .dataframe tbody tr th:only-of-type {\n",
       "        vertical-align: middle;\n",
       "    }\n",
       "\n",
       "    .dataframe tbody tr th {\n",
       "        vertical-align: top;\n",
       "    }\n",
       "\n",
       "    .dataframe thead th {\n",
       "        text-align: right;\n",
       "    }\n",
       "</style>\n",
       "<table border=\"1\" class=\"dataframe\">\n",
       "  <thead>\n",
       "    <tr style=\"text-align: right;\">\n",
       "      <th></th>\n",
       "      <th>diaObjectId</th>\n",
       "      <th>ra</th>\n",
       "      <th>decl</th>\n",
       "      <th>nDiaSources</th>\n",
       "      <th>gPSFluxMean</th>\n",
       "      <th>gPSFluxMeanErr</th>\n",
       "      <th>validityEnd</th>\n",
       "      <th>flags</th>\n",
       "      <th>gTOTFluxMean</th>\n",
       "      <th>gTOTFluxMeanErr</th>\n",
       "    </tr>\n",
       "  </thead>\n",
       "  <tbody>\n",
       "    <tr>\n",
       "      <th>0</th>\n",
       "      <td>176486781787570292</td>\n",
       "      <td>151.197871</td>\n",
       "      <td>2.221515</td>\n",
       "      <td>1</td>\n",
       "      <td>NaN</td>\n",
       "      <td>NaN</td>\n",
       "      <td>None</td>\n",
       "      <td>1</td>\n",
       "      <td>-20630.955068</td>\n",
       "      <td>NaN</td>\n",
       "    </tr>\n",
       "    <tr>\n",
       "      <th>1</th>\n",
       "      <td>176486781787570326</td>\n",
       "      <td>150.997772</td>\n",
       "      <td>2.329394</td>\n",
       "      <td>1</td>\n",
       "      <td>160.158040</td>\n",
       "      <td>NaN</td>\n",
       "      <td>None</td>\n",
       "      <td>1</td>\n",
       "      <td>196.567166</td>\n",
       "      <td>NaN</td>\n",
       "    </tr>\n",
       "    <tr>\n",
       "      <th>2</th>\n",
       "      <td>176486781787570340</td>\n",
       "      <td>151.078542</td>\n",
       "      <td>2.322744</td>\n",
       "      <td>1</td>\n",
       "      <td>10953.513450</td>\n",
       "      <td>NaN</td>\n",
       "      <td>None</td>\n",
       "      <td>1</td>\n",
       "      <td>14866.415796</td>\n",
       "      <td>NaN</td>\n",
       "    </tr>\n",
       "    <tr>\n",
       "      <th>3</th>\n",
       "      <td>176486713068093591</td>\n",
       "      <td>149.839390</td>\n",
       "      <td>2.613432</td>\n",
       "      <td>1</td>\n",
       "      <td>2032.066961</td>\n",
       "      <td>NaN</td>\n",
       "      <td>None</td>\n",
       "      <td>1</td>\n",
       "      <td>2230.560014</td>\n",
       "      <td>NaN</td>\n",
       "    </tr>\n",
       "    <tr>\n",
       "      <th>4</th>\n",
       "      <td>176486713068093600</td>\n",
       "      <td>149.869474</td>\n",
       "      <td>2.552636</td>\n",
       "      <td>1</td>\n",
       "      <td>NaN</td>\n",
       "      <td>NaN</td>\n",
       "      <td>None</td>\n",
       "      <td>1</td>\n",
       "      <td>1788.147560</td>\n",
       "      <td>NaN</td>\n",
       "    </tr>\n",
       "  </tbody>\n",
       "</table>\n",
       "</div>"
      ],
      "text/plain": [
       "          diaObjectId          ra      decl  nDiaSources   gPSFluxMean  \\\n",
       "0  176486781787570292  151.197871  2.221515            1           NaN   \n",
       "1  176486781787570326  150.997772  2.329394            1    160.158040   \n",
       "2  176486781787570340  151.078542  2.322744            1  10953.513450   \n",
       "3  176486713068093591  149.839390  2.613432            1   2032.066961   \n",
       "4  176486713068093600  149.869474  2.552636            1           NaN   \n",
       "\n",
       "   gPSFluxMeanErr validityEnd  flags  gTOTFluxMean  gTOTFluxMeanErr  \n",
       "0             NaN        None      1 -20630.955068              NaN  \n",
       "1             NaN        None      1    196.567166              NaN  \n",
       "2             NaN        None      1  14866.415796              NaN  \n",
       "3             NaN        None      1   2230.560014              NaN  \n",
       "4             NaN        None      1   1788.147560              NaN  "
      ]
     },
     "execution_count": 75,
     "metadata": {},
     "output_type": "execute_result"
    }
   ],
   "source": [
    "objTable.head()\n",
    "# you could also try objTable.columns\n"
   ]
  },
  {
   "cell_type": "code",
   "execution_count": 72,
   "metadata": {},
   "outputs": [
    {
     "data": {
      "text/html": [
       "<div>\n",
       "<style scoped>\n",
       "    .dataframe tbody tr th:only-of-type {\n",
       "        vertical-align: middle;\n",
       "    }\n",
       "\n",
       "    .dataframe tbody tr th {\n",
       "        vertical-align: top;\n",
       "    }\n",
       "\n",
       "    .dataframe thead th {\n",
       "        text-align: right;\n",
       "    }\n",
       "</style>\n",
       "<table border=\"1\" class=\"dataframe\">\n",
       "  <thead>\n",
       "    <tr style=\"text-align: right;\">\n",
       "      <th></th>\n",
       "      <th>diaSourceId</th>\n",
       "      <th>diaObjectId</th>\n",
       "      <th>ra</th>\n",
       "      <th>decl</th>\n",
       "      <th>ccdVisitId</th>\n",
       "      <th>midPointTai</th>\n",
       "      <th>apFlux</th>\n",
       "      <th>psFlux</th>\n",
       "      <th>apFluxErr</th>\n",
       "      <th>psFluxErr</th>\n",
       "      <th>totFlux</th>\n",
       "      <th>totFluxErr</th>\n",
       "      <th>flags</th>\n",
       "    </tr>\n",
       "  </thead>\n",
       "  <tbody>\n",
       "    <tr>\n",
       "      <th>0</th>\n",
       "      <td>176486781787570292</td>\n",
       "      <td>176486781787570292</td>\n",
       "      <td>151.197871</td>\n",
       "      <td>2.221515</td>\n",
       "      <td>41091531</td>\n",
       "      <td>57070.141866</td>\n",
       "      <td>NaN</td>\n",
       "      <td>NaN</td>\n",
       "      <td>NaN</td>\n",
       "      <td>NaN</td>\n",
       "      <td>-20630.955068</td>\n",
       "      <td>315.430138</td>\n",
       "      <td>25299420</td>\n",
       "    </tr>\n",
       "    <tr>\n",
       "      <th>1</th>\n",
       "      <td>176486781787570293</td>\n",
       "      <td>176486781787570293</td>\n",
       "      <td>150.905711</td>\n",
       "      <td>2.283908</td>\n",
       "      <td>41091531</td>\n",
       "      <td>57070.141866</td>\n",
       "      <td>-4.100743e+04</td>\n",
       "      <td>-3.779699e+04</td>\n",
       "      <td>1103.226850</td>\n",
       "      <td>418.586689</td>\n",
       "      <td>48.563316</td>\n",
       "      <td>348.002515</td>\n",
       "      <td>25168348</td>\n",
       "    </tr>\n",
       "    <tr>\n",
       "      <th>2</th>\n",
       "      <td>176486781787570294</td>\n",
       "      <td>176486781787570294</td>\n",
       "      <td>150.909445</td>\n",
       "      <td>2.321916</td>\n",
       "      <td>41091531</td>\n",
       "      <td>57070.141866</td>\n",
       "      <td>-4.038756e+06</td>\n",
       "      <td>-3.395545e+06</td>\n",
       "      <td>1968.619372</td>\n",
       "      <td>1530.687159</td>\n",
       "      <td>-194.198280</td>\n",
       "      <td>383.644887</td>\n",
       "      <td>25166840</td>\n",
       "    </tr>\n",
       "    <tr>\n",
       "      <th>3</th>\n",
       "      <td>176486781787570295</td>\n",
       "      <td>176486781787570295</td>\n",
       "      <td>150.909175</td>\n",
       "      <td>2.355545</td>\n",
       "      <td>41091531</td>\n",
       "      <td>57070.141866</td>\n",
       "      <td>2.969476e+02</td>\n",
       "      <td>2.072557e+03</td>\n",
       "      <td>1060.795183</td>\n",
       "      <td>413.023842</td>\n",
       "      <td>8852.109173</td>\n",
       "      <td>403.754943</td>\n",
       "      <td>2536</td>\n",
       "    </tr>\n",
       "    <tr>\n",
       "      <th>4</th>\n",
       "      <td>176486781787570296</td>\n",
       "      <td>176486781787570296</td>\n",
       "      <td>150.910633</td>\n",
       "      <td>2.361792</td>\n",
       "      <td>41091531</td>\n",
       "      <td>57070.141866</td>\n",
       "      <td>-8.396924e+03</td>\n",
       "      <td>-1.138584e+04</td>\n",
       "      <td>1062.667154</td>\n",
       "      <td>450.717090</td>\n",
       "      <td>32932.733823</td>\n",
       "      <td>440.359122</td>\n",
       "      <td>25168332</td>\n",
       "    </tr>\n",
       "  </tbody>\n",
       "</table>\n",
       "</div>"
      ],
      "text/plain": [
       "          diaSourceId         diaObjectId          ra      decl  ccdVisitId  \\\n",
       "0  176486781787570292  176486781787570292  151.197871  2.221515    41091531   \n",
       "1  176486781787570293  176486781787570293  150.905711  2.283908    41091531   \n",
       "2  176486781787570294  176486781787570294  150.909445  2.321916    41091531   \n",
       "3  176486781787570295  176486781787570295  150.909175  2.355545    41091531   \n",
       "4  176486781787570296  176486781787570296  150.910633  2.361792    41091531   \n",
       "\n",
       "    midPointTai        apFlux        psFlux    apFluxErr    psFluxErr  \\\n",
       "0  57070.141866           NaN           NaN          NaN          NaN   \n",
       "1  57070.141866 -4.100743e+04 -3.779699e+04  1103.226850   418.586689   \n",
       "2  57070.141866 -4.038756e+06 -3.395545e+06  1968.619372  1530.687159   \n",
       "3  57070.141866  2.969476e+02  2.072557e+03  1060.795183   413.023842   \n",
       "4  57070.141866 -8.396924e+03 -1.138584e+04  1062.667154   450.717090   \n",
       "\n",
       "        totFlux  totFluxErr     flags  \n",
       "0 -20630.955068  315.430138  25299420  \n",
       "1     48.563316  348.002515  25168348  \n",
       "2   -194.198280  383.644887  25166840  \n",
       "3   8852.109173  403.754943      2536  \n",
       "4  32932.733823  440.359122  25168332  "
      ]
     },
     "execution_count": 72,
     "metadata": {},
     "output_type": "execute_result"
    }
   ],
   "source": [
    "srcTableAll.head()"
   ]
  },
  {
   "cell_type": "markdown",
   "metadata": {},
   "source": [
    "Using makeSrcTableFlags to get a version of srcTableAll that has \"unpacked\" information about the flags we want to use to filter out some obviously bad sources"
   ]
  },
  {
   "cell_type": "code",
   "execution_count": 76,
   "metadata": {},
   "outputs": [],
   "source": [
    "sys.path.append('/epyc/users/mrawls/premap2019/ap_pipe-notebooks/')\n",
    "from apdbPlots import makeSrcTableFlags"
   ]
  },
  {
   "cell_type": "markdown",
   "metadata": {},
   "source": [
    "Now we will write code to disgard the information we deem bad (flags)"
   ]
  },
  {
   "cell_type": "code",
   "execution_count": 77,
   "metadata": {},
   "outputs": [],
   "source": [
    "badFlagList = ['base_PixelFlags_flag_bad', 'base_PixelFlags_flag_suspect', 'base_PixelFlags_flag_saturatedCenter']"
   ]
  },
  {
   "cell_type": "markdown",
   "metadata": {},
   "source": [
    "The unpacked information will return a lot! so we assign variable names to organize the info"
   ]
  },
  {
   "cell_type": "code",
   "execution_count": 90,
   "metadata": {},
   "outputs": [],
   "source": [
    "flagTable, flagValues, srcTableFlags, flagFilter, noFlagFilter, \\\n",
    "    goodSrc, goodObj = makeSrcTableFlags(srcTableAll, objTable) #This is making a new table of data without the bad flags!"
   ]
  },
  {
   "cell_type": "code",
   "execution_count": 91,
   "metadata": {},
   "outputs": [],
   "source": [
    "lsstRas = goodObj.ra\n",
    "lsstDecs = goodObj.decl\n",
    "hitsRas = hitsDf.raMedian_feat\n",
    "hitsDecs = hitsDf.decMedian_feat #Altering the data so for regular function we only get good data"
   ]
  },
  {
   "cell_type": "markdown",
   "metadata": {},
   "source": [
    "Now we have RA and Decs for both. We want to compare LSST catalogs to Objects in HiTS, but we need something to organize them so that they line up (use Astropy)"
   ]
  },
  {
   "cell_type": "code",
   "execution_count": 89,
   "metadata": {},
   "outputs": [],
   "source": [
    "hitsCoords = SkyCoord(ra=hitsRas*u.degree, dec=hitsDecs*u.degree) #This allows us to convert the degrees between the different measurment methods\n",
    "lsstCoords = SkyCoord(ra=lsstRas*u.degree, dec=lsstDecs*u.degree)\n",
    "idx, d2d, d3d = hitsCoords.match_to_catalog_sky(lsstCoords)#This will compare directly one to another wihtin indices"
   ]
  },
  {
   "cell_type": "markdown",
   "metadata": {},
   "source": [
    "As before, we have a powerful function that returns lots of stuff, but we only need the indices (saved in idx)"
   ]
  },
  {
   "cell_type": "code",
   "execution_count": 81,
   "metadata": {},
   "outputs": [
    {
     "data": {
      "text/plain": [
       "array([23275, 13946, 38703, 11859, 37400,  7466, 22264, 30986, 35177,\n",
       "       17819, 35180, 38621, 14858, 38394, 19642, 33543,  5618,  7250,\n",
       "       26124, 12019,  5620, 13801, 11852,  4423, 37147, 38878, 11856,\n",
       "       28509, 32548, 15050, 31216, 19544, 37528, 17790, 38535, 24220,\n",
       "       29636,  1112, 35274, 37883, 38935, 38133,  4418, 19840,  7312,\n",
       "       38058, 38045, 38660,  5780, 37761, 38470, 38504, 37721, 35266,\n",
       "        1427, 26816, 40799, 14142, 31506, 12372, 12452, 34101,  4851,\n",
       "       40408, 41545,  1396, 27768, 41709, 39382, 41681,  8892, 19108,\n",
       "       20399, 10643, 15201, 41226, 43168, 18239, 41370, 25797, 19007,\n",
       "       17005,  4937, 35334, 44044, 39285,  8362, 15211, 41237,  3927,\n",
       "        4644, 40330,  3868, 36257, 44435, 39291, 41012, 43615,   717,\n",
       "       40638, 45124, 44614,  6693, 31487, 41266, 42057, 31288, 44838,\n",
       "       42051, 44860, 22561, 24612,  5166,   245, 42055, 11226, 36515,\n",
       "       16150, 17043, 43855, 17165, 33894, 12943, 12757, 12469, 24685,\n",
       "       15823, 40558, 18193, 42785, 31455, 42240, 43275, 17226, 19295,\n",
       "       45016, 36443, 40377, 43025, 24100, 33809, 33114, 41025, 20793,\n",
       "       43036, 43036, 39776, 41338, 12432, 25065, 36739, 41051, 11506,\n",
       "       39135, 30608, 41073, 17241, 13405, 41633, 34333, 42907, 18973,\n",
       "        4520,  1598, 34494])"
      ]
     },
     "execution_count": 81,
     "metadata": {},
     "output_type": "execute_result"
    }
   ],
   "source": [
    "idx  # these are the indices of lsstCoords corresponding to hitsCoords 0, 1, 2, ..."
   ]
  },
  {
   "cell_type": "code",
   "execution_count": 82,
   "metadata": {},
   "outputs": [
    {
     "data": {
      "text/plain": [
       "diaObjectId        176510756295016607\n",
       "ra                             149.22\n",
       "decl                          2.59354\n",
       "nDiaSources                        25\n",
       "gPSFluxMean                  -140.081\n",
       "gPSFluxMeanErr                123.453\n",
       "validityEnd                      None\n",
       "flags                               1\n",
       "gTOTFluxMean                   157161\n",
       "gTOTFluxMeanErr               123.892\n",
       "Name: 96596, dtype: object"
      ]
     },
     "execution_count": 82,
     "metadata": {},
     "output_type": "execute_result"
    }
   ],
   "source": [
    "# for example, this pulls up the row from goodObj that matches hitsDf.iloc[2]\n",
    "goodObj.iloc[idx[2]]"
   ]
  },
  {
   "cell_type": "code",
   "execution_count": 84,
   "metadata": {},
   "outputs": [
    {
     "data": {
      "text/plain": [
       "diaObjectId        176492708842438966\n",
       "ra                            155.449\n",
       "decl                         -5.93207\n",
       "nDiaSources                        18\n",
       "gPSFluxMean                  -1980.91\n",
       "gPSFluxMeanErr                109.831\n",
       "validityEnd                      None\n",
       "flags                               1\n",
       "gTOTFluxMean                  94451.2\n",
       "gTOTFluxMeanErr               108.575\n",
       "Name: 100290, dtype: object"
      ]
     },
     "execution_count": 84,
     "metadata": {},
     "output_type": "execute_result"
    }
   ],
   "source": [
    "goodObj.iloc[idx[127]]"
   ]
  },
  {
   "cell_type": "code",
   "execution_count": 85,
   "metadata": {},
   "outputs": [],
   "source": [
    "def plotLsstLightcurve(obj, dbPath, fluxCol='totFlux'):\n",
    "    '''Plots a light curve for a DIA (Difference Image Analysis) Object\n",
    "    from an LSST APDB (Alert Production database).\n",
    "    \n",
    "    Parameters\n",
    "    ----------\n",
    "    obj : diaObjectId\n",
    "        a really long integer that lets us retrieve sources for a single object\n",
    "    objTable : Pandas dataframe containing DIA Objects\n",
    "    repo : Butler repository\n",
    "    dbPath : Path on disk to an APDB we can load DIA Objects or DIA Sources from\n",
    "        often the database is named `association.db`\n",
    "    fluxCol : Which flux column to plot?\n",
    "        choices are totFlux, psFlux, apFlux\n",
    "    \n",
    "    '''\n",
    "    plt.figure(figsize=(6,4))\n",
    "    connection = sqlite3.connect(dbPath)\n",
    "    # Load all sources for a single object called \"obj\"\n",
    "    srcTable = pd.read_sql_query(f'select diaSourceId, diaObjectId, \\\n",
    "                                  ra, decl, ccdVisitId, \\\n",
    "                                  midPointTai, apFlux, psFlux, apFluxErr, \\\n",
    "                                  psFluxErr, totFlux, totFluxErr, flags \\\n",
    "                                  from DiaSource where diaObjectId = {obj};', connection)\n",
    "    fluxErrCol = fluxCol + 'Err'\n",
    "    plt.errorbar(srcTable['midPointTai'], srcTable[fluxCol], yerr=srcTable[fluxErrCol],\n",
    "                 ls=':', marker='o')\n",
    "    plt.ylabel(fluxCol + ' (nJy)')\n",
    "    plt.xlabel('Time (MJD)')"
   ]
  },
  {
   "cell_type": "code",
   "execution_count": 86,
   "metadata": {},
   "outputs": [
    {
     "data": {
      "image/png": "[encoded data removed]",
      "text/plain": [
       "<Figure size 432x288 with 1 Axes>"
      ]
     },
     "metadata": {
      "needs_background": "light"
     },
     "output_type": "display_data"
    }
   ],
   "source": [
    "plot_hits(hitsDf.iloc[2])"
   ]
  },
  {
   "cell_type": "markdown",
   "metadata": {},
   "source": [
    "Below we will make a light curve with the bad information filtered out. This graph represents data from HiTS, run through LSST software. Our end goal is to compare our light curves to the light curves produced from DEC software and compare the differences!"
   ]
  },
  {
   "cell_type": "code",
   "execution_count": 87,
   "metadata": {},
   "outputs": [
    {
     "data": {
      "image/png": "[encoded data removed]",
      "text/plain": [
       "<Figure size 432x288 with 1 Axes>"
      ]
     },
     "metadata": {
      "needs_background": "light"
     },
     "output_type": "display_data"
    }
   ],
   "source": [
    "obj = goodObj.iloc[idx[2]]['diaObjectId']  # can you explain what this line does?\n",
    "plotLsstLightcurve(obj, dbPath) "
   ]
  },
  {
   "cell_type": "code",
   "execution_count": 88,
   "metadata": {},
   "outputs": [
    {
     "data": {
      "image/png": "[encoded data removed]",
      "text/plain": [
       "<Figure size 432x288 with 1 Axes>"
      ]
     },
     "metadata": {
      "needs_background": "light"
     },
     "output_type": "display_data"
    }
   ],
   "source": [
    "plot_hits(hitsDf.iloc[127])"
   ]
  },
  {
   "cell_type": "code",
   "execution_count": 92,
   "metadata": {},
   "outputs": [
    {
     "data": {
      "image/png": "[encoded data removed]",
      "text/plain": [
       "<Figure size 432x288 with 1 Axes>"
      ]
     },
     "metadata": {
      "needs_background": "light"
     },
     "output_type": "display_data"
    }
   ],
   "source": [
    "obj = goodObj.iloc[idx[127]]['diaObjectId']  \n",
    "plotLsstLightcurve(obj, dbPath) "
   ]
  },
  {
   "cell_type": "code",
   "execution_count": 93,
   "metadata": {},
   "outputs": [
    {
     "name": "stdout",
     "output_type": "stream",
     "text": [
      "18.5346799108044\n"
     ]
    }
   ],
   "source": [
    "# Hint: the astropy units module is your friend!\n",
    "lsstTestMag = (140000*u.nJy).to(u.ABmag)\n",
    "print(lsstTestMag.value)"
   ]
  },
  {
   "cell_type": "code",
   "execution_count": 142,
   "metadata": {},
   "outputs": [
    {
     "name": "stdout",
     "output_type": "stream",
     "text": [
      "21.01425438143806\n"
     ]
    }
   ],
   "source": [
    "srcTable = pd.read_sql_query(f'select diaSourceId, diaObjectId, \\\n",
    "                                  ra, decl, ccdVisitId, \\\n",
    "                                  midPointTai, apFlux, psFlux, apFluxErr, \\\n",
    "                                  psFluxErr, totFlux, totFluxErr, flags \\\n",
    "                                  from DiaSource where diaObjectId = {obj};', connection)\n",
    "x= np.array(srcTableAll['totFlux'])\n",
    "lsstTestMag = (x[127]*u.nJy).to(u.ABmag)\n",
    "print(lsstTestMag.value)\n"
   ]
  },
  {
   "cell_type": "markdown",
   "metadata": {},
   "source": [
    "HOLa"
   ]
  },
  {
   "cell_type": "code",
   "execution_count": null,
   "metadata": {},
   "outputs": [],
   "source": []
  },
  {
   "cell_type": "code",
   "execution_count": null,
   "metadata": {},
   "outputs": [],
   "source": []
  }
 ],
 "metadata": {
  "kernelspec": {
   "display_name": "LSST Pre-MAP 2019",
   "language": "python",
   "name": "lsst-premap"
  },
  "language_info": {
   "codemirror_mode": {
    "name": "ipython",
    "version": 3
   },
   "file_extension": ".py",
   "mimetype": "text/x-python",
   "name": "python",
   "nbconvert_exporter": "python",
   "pygments_lexer": "ipython3",
   "version": "3.7.2"
  }
 },
 "nbformat": 4,
 "nbformat_minor": 2
}
