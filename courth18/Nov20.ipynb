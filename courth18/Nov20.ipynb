{
 "cells": [
  {
   "cell_type": "code",
   "execution_count": 1,
   "metadata": {},
   "outputs": [],
   "source": [
    "%matplotlib inline"
   ]
  },
  {
   "cell_type": "code",
   "execution_count": 9,
   "metadata": {},
   "outputs": [
    {
     "ename": "ModuleNotFoundError",
     "evalue": "No module named 'lsst'",
     "output_type": "error",
     "traceback": [
      "\u001b[0;31m---------------------------------------------------------------------------\u001b[0m",
      "\u001b[0;31mModuleNotFoundError\u001b[0m                       Traceback (most recent call last)",
      "\u001b[0;32m<ipython-input-9-3f7588069107>\u001b[0m in \u001b[0;36m<module>\u001b[0;34m\u001b[0m\n\u001b[1;32m      9\u001b[0m \u001b[0;32mimport\u001b[0m \u001b[0mtarfile\u001b[0m\u001b[0;34m\u001b[0m\u001b[0;34m\u001b[0m\u001b[0m\n\u001b[1;32m     10\u001b[0m \u001b[0;32mfrom\u001b[0m \u001b[0mastropy\u001b[0m \u001b[0;32mimport\u001b[0m \u001b[0munits\u001b[0m \u001b[0;32mas\u001b[0m \u001b[0mu\u001b[0m\u001b[0;34m\u001b[0m\u001b[0;34m\u001b[0m\u001b[0m\n\u001b[0;32m---> 11\u001b[0;31m \u001b[0;32mimport\u001b[0m \u001b[0mlsst\u001b[0m\u001b[0;34m.\u001b[0m\u001b[0mafw\u001b[0m\u001b[0;34m.\u001b[0m\u001b[0mdisplay\u001b[0m \u001b[0;32mas\u001b[0m \u001b[0mafwDisplay\u001b[0m\u001b[0;34m\u001b[0m\u001b[0;34m\u001b[0m\u001b[0m\n\u001b[0m\u001b[1;32m     12\u001b[0m \u001b[0;32mimport\u001b[0m \u001b[0mlsst\u001b[0m\u001b[0;34m.\u001b[0m\u001b[0mafw\u001b[0m\u001b[0;34m.\u001b[0m\u001b[0mgeom\u001b[0m \u001b[0;32mas\u001b[0m \u001b[0mafwGeom\u001b[0m\u001b[0;34m\u001b[0m\u001b[0;34m\u001b[0m\u001b[0m\n",
      "\u001b[0;31mModuleNotFoundError\u001b[0m: No module named 'lsst'"
     ]
    }
   ],
   "source": [
    "import os\n",
    "from astropy.io import fits\n",
    "import pandas as pd\n",
    "import sys\n",
    "import sqlite3\n",
    "import matplotlib.pyplot as plt\n",
    "import numpy as np\n",
    "from astropy.coordinates import SkyCoord\n",
    "import tarfile\n",
    "from astropy import units as u \n",
    "import lsst.afw.display as afwDisplay\n",
    "import lsst.afw.geom as afwGeom\n"
   ]
  },
  {
   "cell_type": "code",
   "execution_count": 7,
   "metadata": {},
   "outputs": [
    {
     "ename": "ModuleNotFoundError",
     "evalue": "No module named 'lsst'",
     "output_type": "error",
     "traceback": [
      "\u001b[0;31m---------------------------------------------------------------------------\u001b[0m",
      "\u001b[0;31mModuleNotFoundError\u001b[0m                       Traceback (most recent call last)",
      "\u001b[0;32m<ipython-input-7-d03f4bc89bd8>\u001b[0m in \u001b[0;36m<module>\u001b[0;34m\u001b[0m\n\u001b[0;32m----> 1\u001b[0;31m \u001b[0;32mimport\u001b[0m \u001b[0mlsst\u001b[0m\u001b[0;34m.\u001b[0m\u001b[0mdaf\u001b[0m\u001b[0;34m.\u001b[0m\u001b[0mpersistence\u001b[0m \u001b[0;32mas\u001b[0m \u001b[0mdafPersist\u001b[0m\u001b[0;34m\u001b[0m\u001b[0;34m\u001b[0m\u001b[0m\n\u001b[0m",
      "\u001b[0;31mModuleNotFoundError\u001b[0m: No module named 'lsst'"
     ]
    }
   ],
   "source": [
    "import lsst.daf.persistence as dafPersist"
   ]
  },
  {
   "cell_type": "markdown",
   "metadata": {},
   "source": [
    "## This Weeks goal\n",
    "1. Access HiTS light curve data and plot it for at least one variable object\n",
    "2. Access LSST light curve data for the same object(s) and plot it too"
   ]
  },
  {
   "cell_type": "code",
   "execution_count": null,
   "metadata": {},
   "outputs": [],
   "source": [
    "hitsDataDir= '/epyc/users/mrawls/premap2019/hits-dr1'\n",
    "hitsFilename= 'HiTS_DR1_variables_DM-dataset-subset.fits'\n",
    "hitsFilepath = os.path.join(hitsDataDir, hitsFilename)\n",
    "hitsTable= fits.open(hitsFilepath) #load data as an astropy fits thing\n",
    "hitsDf= pd.DataFrame(hitsTable[1].data) #turn data into a pandas dataframe\n",
    "hitsDf.head()#shows us (prints out) what the dataframe looks like\n",
    "print(len(hitsDf))\n",
    "#hitsDf.columns  #all of the things we can access from the data 82 columns\n"
   ]
  },
  {
   "cell_type": "code",
   "execution_count": null,
   "metadata": {},
   "outputs": [],
   "source": []
  },
  {
   "cell_type": "code",
   "execution_count": null,
   "metadata": {},
   "outputs": [],
   "source": [
    "\n",
    "#Intermediate goal: get something like \"Blind15A_40_s17_LC_5-.tar.gz from a row in the dataframe\n",
    "testRow = hitsDf.iloc[0]\n",
    "testRow\n",
    "tok = testRow['internalID'].split('_')\n",
    "print(tok)\n",
    "field = '_'.join([tok[0], tok[1]])\n",
    "print(field)\n",
    "ccd = tok[2]\n",
    "lightcurveTestFile= field + '_' + ccd + '_LC_50.tar.gz'\n",
    "lightcurveTestPath= os.path.join(hitsDataDir, 'light_curves', field, ccd, lightcurveTestFile)\n",
    "print(lightcurveTestPath)"
   ]
  },
  {
   "cell_type": "code",
   "execution_count": null,
   "metadata": {},
   "outputs": [],
   "source": [
    "def plot_hits(row, lcPath='/epyc/users/mrawls/premap2019/hits-dr1/light_curves'):\n",
    "    '''Plots light curves from HiTS dr1.\n",
    "    \n",
    "    Parameters\n",
    "    ----------\n",
    "    row: Pandas dataframe row from DR1 source data \n",
    "    lcPath: Path on disk to light curves from DR1'''\n",
    "    tok = row['internalID'].split('_')\n",
    "    ccd = tok[2]\n",
    "    field = '_'.join([tok[0], tok[1]])\n",
    "    lightcurveFile= field + '_' + ccd + '_LC_50.tar.gz'\n",
    "    #lightcurvePath= os.path.join(hitsDataDir, 'light_curves', field, ccd, lightcurveTestFile)\n",
    "    tarball = tarfile.open(os.path.join(lcPath, field, ccd, lightcurveFile))\n",
    "    data = tarball.extractfile(row['internalID'] + '_g.dat')\n",
    "    dfl = pd.read_csv(data, sep='\\t') # load a file with light curve data into the pandas datafram\n",
    "    fig = plt.figure (figsize = (6, 4))\n",
    "    plt.errorbar(dfl.MJD, dfl.MAG_AP1, dfl.MAGERR_AP1, marker='o', linestyle= ':')\n",
    "    plt.xlabel('Time (MJD)')\n",
    "    plt.ylabel('magnitude')\n",
    "    "
   ]
  },
  {
   "cell_type": "code",
   "execution_count": null,
   "metadata": {},
   "outputs": [],
   "source": [
    "plot_hits(hitsDf.iloc[22])"
   ]
  },
  {
   "cell_type": "markdown",
   "metadata": {},
   "source": [
    "We made it through part 1 of the goals! We have a function we can use to plot any of the 165 HiTS DR1  variable object light curves. We'll pick up from here next time to do part 2 of our goals"
   ]
  },
  {
   "cell_type": "code",
   "execution_count": null,
   "metadata": {},
   "outputs": [],
   "source": [
    "repo = '/epyc/users/mrawls/premap2019/hits-lsst/hits2015/rerun/highres1'\n",
    "butler = dafPersist.Butler(repo)"
   ]
  },
  {
   "cell_type": "code",
   "execution_count": null,
   "metadata": {},
   "outputs": [],
   "source": [
    "dbName = 'association.db'\n",
    "dbPath = os.path.join(repo, dbName)"
   ]
  },
  {
   "cell_type": "markdown",
   "metadata": {},
   "source": [
    "We are connecting to the database using sqlite3. This wil run two queries to make two pandas dataframes. One is all the objects and one is all the sources. ***objects are composed of one or more sources that have been associated together based on position in the sky.***\n",
    "\n",
    "These are big dataframes so they will take a little time to load"
   ]
  },
  {
   "cell_type": "code",
   "execution_count": null,
   "metadata": {},
   "outputs": [],
   "source": [
    "connection = sqlite3.connect(dbPath)"
   ]
  },
  {
   "cell_type": "code",
   "execution_count": null,
   "metadata": {},
   "outputs": [],
   "source": [
    "objTable = pd.read_sql_query('select diaObjectId, ra, decl, nDiaSources, \\\n",
    "                              gPSFluxMean, gPSFluxMeanErr, \\\n",
    "                              validityEnd, flags, \\\n",
    "                              gTOTFluxMean, gTOTFluxMeanErr \\\n",
    "                              from DiaObject where validityEnd is NULL;', connection)"
   ]
  },
  {
   "cell_type": "markdown",
   "metadata": {},
   "source": [
    "Above we have imported/selected all the data from **OBJECTS** that we want from the columns to arange in a table"
   ]
  },
  {
   "cell_type": "code",
   "execution_count": null,
   "metadata": {},
   "outputs": [],
   "source": [
    "srcTableAll = pd.read_sql_query('select diaSourceId, diaObjectId, \\\n",
    "                                  ra, decl, ccdVisitId, \\\n",
    "                                  midPointTai, apFlux, psFlux, apFluxErr, \\\n",
    "                                  psFluxErr, totFlux, totFluxErr, flags \\\n",
    "                                  from DiaSource;', connection)"
   ]
  },
  {
   "cell_type": "markdown",
   "metadata": {},
   "source": [
    "Above we have imported/selected all the data from **SOURCES** that we want from the columns ot arange in a table"
   ]
  },
  {
   "cell_type": "code",
   "execution_count": null,
   "metadata": {},
   "outputs": [],
   "source": [
    "objTable.head()\n",
    "# you could also try objTable.columns\n"
   ]
  },
  {
   "cell_type": "code",
   "execution_count": null,
   "metadata": {},
   "outputs": [],
   "source": [
    "srcTableAll.head()"
   ]
  },
  {
   "cell_type": "markdown",
   "metadata": {},
   "source": [
    "Using makeSrcTableFlags to get a version of srcTableAll that has \"unpacked\" information about the flags we want to use to filter out some obviously bad sources"
   ]
  },
  {
   "cell_type": "code",
   "execution_count": null,
   "metadata": {},
   "outputs": [],
   "source": [
    "sys.path.append('/epyc/users/mrawls/premap2019/ap_pipe-notebooks/')\n",
    "from apdbPlots import makeSrcTableFlags"
   ]
  },
  {
   "cell_type": "markdown",
   "metadata": {},
   "source": [
    "Now we will write code to disgard the information we deem bad (flags)"
   ]
  },
  {
   "cell_type": "code",
   "execution_count": null,
   "metadata": {},
   "outputs": [],
   "source": [
    "badFlagList = ['base_PixelFlags_flag_bad', 'base_PixelFlags_flag_suspect', 'base_PixelFlags_flag_saturatedCenter']"
   ]
  },
  {
   "cell_type": "markdown",
   "metadata": {},
   "source": [
    "The unpacked information will return a lot! so we assign variable names to organize the info"
   ]
  },
  {
   "cell_type": "code",
   "execution_count": null,
   "metadata": {},
   "outputs": [],
   "source": [
    "flagTable, flagValues, srcTableFlags, flagFilter, noFlagFilter, \\\n",
    "    goodSrc, goodObj = makeSrcTableFlags(srcTableAll, objTable) #This is making a new table of data without the bad flags!"
   ]
  },
  {
   "cell_type": "code",
   "execution_count": null,
   "metadata": {},
   "outputs": [],
   "source": [
    "lsstRas = goodObj.ra\n",
    "lsstDecs = goodObj.decl\n",
    "hitsRas = hitsDf.raMedian_feat\n",
    "hitsDecs = hitsDf.decMedian_feat #Altering the data so for regular function we only get good data"
   ]
  },
  {
   "cell_type": "markdown",
   "metadata": {},
   "source": [
    "Now we have RA and Decs for both. We want to compare LSST catalogs to Objects in HiTS, but we need something to organize them so that they line up (use Astropy)"
   ]
  },
  {
   "cell_type": "code",
   "execution_count": null,
   "metadata": {},
   "outputs": [],
   "source": [
    "hitsCoords = SkyCoord(ra=hitsRas*u.degree, dec=hitsDecs*u.degree) #This allows us to convert the degrees between the different measurment methods\n",
    "lsstCoords = SkyCoord(ra=lsstRas*u.degree, dec=lsstDecs*u.degree)\n",
    "idx, d2d, d3d = hitsCoords.match_to_catalog_sky(lsstCoords)#This will compare directly one to another wihtin indices"
   ]
  },
  {
   "cell_type": "markdown",
   "metadata": {},
   "source": [
    "As before, we have a powerful function that returns lots of stuff, but we only need the indices (saved in idx)"
   ]
  },
  {
   "cell_type": "code",
   "execution_count": null,
   "metadata": {},
   "outputs": [],
   "source": [
    "idx  # these are the indices of lsstCoords corresponding to hitsCoords 0, 1, 2, ..."
   ]
  },
  {
   "cell_type": "code",
   "execution_count": null,
   "metadata": {},
   "outputs": [],
   "source": [
    "# for example, this pulls up the row from goodObj that matches hitsDf.iloc[2]\n",
    "goodObj.iloc[idx[2]]"
   ]
  },
  {
   "cell_type": "code",
   "execution_count": null,
   "metadata": {},
   "outputs": [],
   "source": [
    "goodObj.iloc[idx[127]]"
   ]
  },
  {
   "cell_type": "code",
   "execution_count": null,
   "metadata": {},
   "outputs": [],
   "source": [
    "def plotLsstLightcurve(obj, dbPath, fluxCol='totFlux'):\n",
    "    '''Plots a light curve for a DIA (Difference Image Analysis) Object\n",
    "    from an LSST APDB (Alert Production database).\n",
    "    \n",
    "    Parameters\n",
    "    ----------\n",
    "    obj : diaObjectId\n",
    "        a really long integer that lets us retrieve sources for a single object\n",
    "    objTable : Pandas dataframe containing DIA Objects\n",
    "    repo : Butler repository\n",
    "    dbPath : Path on disk to an APDB we can load DIA Objects or DIA Sources from\n",
    "        often the database is named `association.db`\n",
    "    fluxCol : Which flux column to plot?\n",
    "        choices are totFlux, psFlux, apFlux\n",
    "    \n",
    "    '''\n",
    "    plt.figure(figsize=(6,4))\n",
    "    connection = sqlite3.connect(dbPath)\n",
    "    # Load all sources for a single object called \"obj\"\n",
    "    srcTable = pd.read_sql_query(f'select diaSourceId, diaObjectId, \\\n",
    "                                  ra, decl, ccdVisitId, \\\n",
    "                                  midPointTai, apFlux, psFlux, apFluxErr, \\\n",
    "                                  psFluxErr, totFlux, totFluxErr, flags \\\n",
    "                                  from DiaSource where diaObjectId = {obj};', connection)\n",
    "    fluxErrCol = fluxCol + 'Err'\n",
    "    plt.errorbar(srcTable['midPointTai'], srcTable[fluxCol], yerr=srcTable[fluxErrCol],\n",
    "                 ls=':', marker='o')\n",
    "    plt.ylabel(fluxCol + ' (nJy)')\n",
    "    plt.xlabel('Time (MJD)')"
   ]
  },
  {
   "cell_type": "code",
   "execution_count": null,
   "metadata": {},
   "outputs": [],
   "source": [
    "plot_hits(hitsDf.iloc[2])"
   ]
  },
  {
   "cell_type": "markdown",
   "metadata": {},
   "source": [
    "Below we will make a light curve with the bad information filtered out. This graph represents data from HiTS, run through LSST software. Our end goal is to compare our light curves to the light curves produced from DEC software and compare the differences!"
   ]
  },
  {
   "cell_type": "code",
   "execution_count": 7,
   "metadata": {},
   "outputs": [
    {
     "ename": "NameError",
     "evalue": "name 'goodObj' is not defined",
     "output_type": "error",
     "traceback": [
      "\u001b[0;31m---------------------------------------------------------------------------\u001b[0m",
      "\u001b[0;31mNameError\u001b[0m                                 Traceback (most recent call last)",
      "\u001b[0;32m<ipython-input-7-39e2ead68694>\u001b[0m in \u001b[0;36m<module>\u001b[0;34m\u001b[0m\n\u001b[0;32m----> 1\u001b[0;31m \u001b[0mobj\u001b[0m \u001b[0;34m=\u001b[0m \u001b[0mgoodObj\u001b[0m\u001b[0;34m.\u001b[0m\u001b[0miloc\u001b[0m\u001b[0;34m[\u001b[0m\u001b[0midx\u001b[0m\u001b[0;34m[\u001b[0m\u001b[0;36m2\u001b[0m\u001b[0;34m]\u001b[0m\u001b[0;34m]\u001b[0m\u001b[0;34m[\u001b[0m\u001b[0;34m'diaObjectId'\u001b[0m\u001b[0;34m]\u001b[0m  \u001b[0;31m# can you explain what this line does?\u001b[0m\u001b[0;34m\u001b[0m\u001b[0;34m\u001b[0m\u001b[0m\n\u001b[0m\u001b[1;32m      2\u001b[0m \u001b[0mplotLsstLightcurve\u001b[0m\u001b[0;34m(\u001b[0m\u001b[0mobj\u001b[0m\u001b[0;34m,\u001b[0m \u001b[0mdbPath\u001b[0m\u001b[0;34m)\u001b[0m\u001b[0;34m\u001b[0m\u001b[0;34m\u001b[0m\u001b[0m\n",
      "\u001b[0;31mNameError\u001b[0m: name 'goodObj' is not defined"
     ]
    }
   ],
   "source": [
    "obj = goodObj.iloc[idx[2]]['diaObjectId']  # can you explain what this line does?\n",
    "plotLsstLightcurve(obj, dbPath) "
   ]
  },
  {
   "cell_type": "code",
   "execution_count": null,
   "metadata": {},
   "outputs": [],
   "source": [
    "plot_hits(hitsDf.iloc[127])"
   ]
  },
  {
   "cell_type": "code",
   "execution_count": null,
   "metadata": {},
   "outputs": [],
   "source": [
    "obj = goodObj.iloc[idx[127]]['diaObjectId']  \n",
    "plotLsstLightcurve(obj, dbPath) "
   ]
  },
  {
   "cell_type": "code",
   "execution_count": null,
   "metadata": {},
   "outputs": [],
   "source": [
    "# Hint: the astropy units module is your friend!\n",
    "lsstTestMag = (140000*u.nJy).to(u.ABmag)\n",
    "print(lsstTestMag.value)"
   ]
  },
  {
   "cell_type": "code",
   "execution_count": null,
   "metadata": {},
   "outputs": [],
   "source": [
    "srcTable = pd.read_sql_query(f'select diaSourceId, diaObjectId, \\\n",
    "                                  ra, decl, ccdVisitId, \\\n",
    "                                  midPointTai, apFlux, psFlux, apFluxErr, \\\n",
    "                                  psFluxErr, totFlux, totFluxErr, flags \\\n",
    "                                  from DiaSource where diaObjectId = {obj};', connection)\n",
    "x= np.array(goodSrc['totFlux'])\n",
    "lsstTestMag = (x[127]*u.nJy).to(u.ABmag)\n",
    "print(lsstTestMag.value)\n"
   ]
  },
  {
   "cell_type": "code",
   "execution_count": null,
   "metadata": {},
   "outputs": [],
   "source": [
    "def plotLsstLightcurve(obj, srcTable, row, lcPath='/epyc/users/mrawls/premap2019/hits-dr1/light_curves'):\n",
    "    '''Plots light curves from HiTS dr1.'''\n",
    "    '''Plots a light curve for a DIA (Difference Image Analysis) Object\n",
    "    from an LSST APDB (Alert Production database).\n",
    "    \n",
    "    Parameters\n",
    "    ----------\n",
    "    obj : diaObjectId\n",
    "        a really long integer that lets us retrieve sources for a single object\n",
    "    objTable : Pandas dataframe containing DIA Objects\n",
    "    repo : Butler repository\n",
    "    dbPath : Path on disk to an APDB we can load DIA Objects or DIA Sources from\n",
    "        often the database is named `association.db`\n",
    "    fluxCol : Which flux column to plot?\n",
    "        choices are totFlux, psFlux, apFlux\n",
    "    \n",
    "    '''\n",
    "    plt.figure(figsize=(10,8))\n",
    "    srcRowFilter= (srcTable['diaObjectId'] == obj)\n",
    "    srcRow= srcTable.loc[srcRowFilter]\n",
    "    plt.errorbar(srcRow['midPointTai'], srcRow['magCol'], yerr=srcRow['magErrCol'],\n",
    "                 ls=':', marker='o')\n",
    "    \n",
    "    tok = row['internalID'].split('_')\n",
    "    ccd = tok[2]\n",
    "    field = '_'.join([tok[0], tok[1]])\n",
    "    lightcurveFile= field + '_' + ccd + '_LC_50.tar.gz'\n",
    "    #lightcurvePath= os.path.join(hitsDataDir, 'light_curves', field, ccd, lightcurveTestFile)\n",
    "    tarball = tarfile.open(os.path.join(lcPath, field, ccd, lightcurveFile))\n",
    "    data = tarball.extractfile(row['internalID'] + '_g.dat')\n",
    "    dfl = pd.read_csv(data, sep='\\t') # load a file with light curve data into the pandas dataframe\n",
    "    plt.errorbar(dfl.MJD, dfl.MAG_AP1, dfl.MAGERR_AP1, marker='o', linestyle= ':')\n",
    "    plt.xlabel('Time (MJD)')\n",
    "    plt.ylabel('magnitude')"
   ]
  },
  {
   "cell_type": "code",
   "execution_count": null,
   "metadata": {},
   "outputs": [],
   "source": []
  },
  {
   "cell_type": "code",
   "execution_count": null,
   "metadata": {},
   "outputs": [],
   "source": [
    "srcTableArray=np.array(srcTableAll['totFlux'])\n",
    "mag = (srcTableArray*u.nJy).to(u.ABmag)\n",
    "srcTableAll['magCol'] = mag\n",
    "srcTableAll.head()"
   ]
  },
  {
   "cell_type": "code",
   "execution_count": null,
   "metadata": {},
   "outputs": [],
   "source": [
    "magErr = np.abs(-1.0857/srcTableAll['totFluxErr']/srcTableAll['totFlux'])\n",
    "srcTableAll['magErrCol'] = magErr\n",
    "srcTableAll.head()"
   ]
  },
  {
   "cell_type": "code",
   "execution_count": null,
   "metadata": {},
   "outputs": [],
   "source": [
    "\n",
    "obj = goodObj.iloc[idx[11]]['diaObjectId'] \n",
    "row = hitsDf.iloc[11]\n",
    "plotLsstLightcurve(obj, srcTableAll, row) "
   ]
  },
  {
   "cell_type": "code",
   "execution_count": null,
   "metadata": {},
   "outputs": [],
   "source": [
    "hola"
   ]
  },
  {
   "cell_type": "code",
   "execution_count": null,
   "metadata": {},
   "outputs": [],
   "source": []
  },
  {
   "cell_type": "code",
   "execution_count": null,
   "metadata": {},
   "outputs": [],
   "source": []
  }
 ],
 "metadata": {
  "kernelspec": {
   "display_name": "LSST Pre-MAP 2019",
   "language": "python",
   "name": "lsst-premap"
  },
  "language_info": {
   "codemirror_mode": {
    "name": "ipython",
    "version": 3
   },
   "file_extension": ".py",
   "mimetype": "text/x-python",
   "name": "python",
   "nbconvert_exporter": "python",
   "pygments_lexer": "ipython3",
   "version": "3.7.2"
  }
 },
 "nbformat": 4,
 "nbformat_minor": 2
}
