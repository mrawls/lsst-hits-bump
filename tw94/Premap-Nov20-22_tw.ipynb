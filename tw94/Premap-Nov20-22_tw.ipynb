{
 "cells": [
  {
   "cell_type": "code",
   "execution_count": 2,
   "metadata": {},
   "outputs": [],
   "source": [
    "%matplotlib inline\n",
    "import os\n",
    "import sys\n",
    "import numpy as np\n",
    "import matplotlib.pyplot as plt\n",
    "import pandas as pd\n",
    "from astropy.io import fits\n",
    "from astropy.coordinates import SkyCoord\n",
    "import tarfile\n",
    "import lsst.daf.persistence as dafPersist"
   ]
  },
  {
   "cell_type": "code",
   "execution_count": 5,
   "metadata": {},
   "outputs": [
    {
     "data": {
      "text/html": [
       "<div>\n",
       "<style scoped>\n",
       "    .dataframe tbody tr th:only-of-type {\n",
       "        vertical-align: middle;\n",
       "    }\n",
       "\n",
       "    .dataframe tbody tr th {\n",
       "        vertical-align: top;\n",
       "    }\n",
       "\n",
       "    .dataframe thead th {\n",
       "        text-align: right;\n",
       "    }\n",
       "</style>\n",
       "<table border=\"1\" class=\"dataframe\">\n",
       "  <thead>\n",
       "    <tr style=\"text-align: right;\">\n",
       "      <th></th>\n",
       "      <th>ID</th>\n",
       "      <th>internalID</th>\n",
       "      <th>raMedian</th>\n",
       "      <th>decMedian</th>\n",
       "      <th>Variable_prob</th>\n",
       "      <th>Periodic_prob</th>\n",
       "      <th>DSCT_Prob</th>\n",
       "      <th>EB_Prob</th>\n",
       "      <th>ROTVAR_Prob</th>\n",
       "      <th>RRLYR_Prob</th>\n",
       "      <th>...</th>\n",
       "      <th>Rcs</th>\n",
       "      <th>Skew</th>\n",
       "      <th>SlottedA_length</th>\n",
       "      <th>SmallKurtosis</th>\n",
       "      <th>Std</th>\n",
       "      <th>StetsonK</th>\n",
       "      <th>StetsonK_AC</th>\n",
       "      <th>g-i</th>\n",
       "      <th>g-r</th>\n",
       "      <th>r-i</th>\n",
       "    </tr>\n",
       "  </thead>\n",
       "  <tbody>\n",
       "    <tr>\n",
       "      <th>0</th>\n",
       "      <td>HiTS095611+020452</td>\n",
       "      <td>Blind15A_26_N1_1715_0146</td>\n",
       "      <td>149.048038</td>\n",
       "      <td>2.081381</td>\n",
       "      <td>0.523601</td>\n",
       "      <td>0.202651</td>\n",
       "      <td>NaN</td>\n",
       "      <td>NaN</td>\n",
       "      <td>NaN</td>\n",
       "      <td>NaN</td>\n",
       "      <td>...</td>\n",
       "      <td>0.246009</td>\n",
       "      <td>-0.584446</td>\n",
       "      <td>0.134705</td>\n",
       "      <td>2.100608</td>\n",
       "      <td>0.032812</td>\n",
       "      <td>0.773151</td>\n",
       "      <td>0.738233</td>\n",
       "      <td>2.859381</td>\n",
       "      <td>1.439736</td>\n",
       "      <td>1.419645</td>\n",
       "    </tr>\n",
       "    <tr>\n",
       "      <th>1</th>\n",
       "      <td>HiTS095645+021135</td>\n",
       "      <td>Blind15A_26_N1_0181_2093</td>\n",
       "      <td>149.190225</td>\n",
       "      <td>2.193068</td>\n",
       "      <td>0.564932</td>\n",
       "      <td>0.635018</td>\n",
       "      <td>0.400</td>\n",
       "      <td>0.100</td>\n",
       "      <td>0.375</td>\n",
       "      <td>0.125</td>\n",
       "      <td>...</td>\n",
       "      <td>0.119267</td>\n",
       "      <td>-0.133774</td>\n",
       "      <td>0.067353</td>\n",
       "      <td>-0.444997</td>\n",
       "      <td>0.123052</td>\n",
       "      <td>0.841553</td>\n",
       "      <td>0.815632</td>\n",
       "      <td>0.996040</td>\n",
       "      <td>0.769289</td>\n",
       "      <td>0.226751</td>\n",
       "    </tr>\n",
       "    <tr>\n",
       "      <th>2</th>\n",
       "      <td>HiTS095652+023537</td>\n",
       "      <td>Blind15A_26_S14_1446_0379</td>\n",
       "      <td>149.220445</td>\n",
       "      <td>2.593841</td>\n",
       "      <td>0.962477</td>\n",
       "      <td>0.635836</td>\n",
       "      <td>0.025</td>\n",
       "      <td>0.125</td>\n",
       "      <td>0.750</td>\n",
       "      <td>0.100</td>\n",
       "      <td>...</td>\n",
       "      <td>0.227995</td>\n",
       "      <td>-0.317121</td>\n",
       "      <td>0.269410</td>\n",
       "      <td>-0.008631</td>\n",
       "      <td>0.067782</td>\n",
       "      <td>0.849505</td>\n",
       "      <td>0.846981</td>\n",
       "      <td>1.911452</td>\n",
       "      <td>1.484048</td>\n",
       "      <td>0.427403</td>\n",
       "    </tr>\n",
       "    <tr>\n",
       "      <th>3</th>\n",
       "      <td>HiTS095702+023628</td>\n",
       "      <td>Blind15A_26_S14_1253_0945</td>\n",
       "      <td>149.261780</td>\n",
       "      <td>2.607883</td>\n",
       "      <td>0.532390</td>\n",
       "      <td>0.933333</td>\n",
       "      <td>0.550</td>\n",
       "      <td>0.225</td>\n",
       "      <td>0.050</td>\n",
       "      <td>0.175</td>\n",
       "      <td>...</td>\n",
       "      <td>0.179956</td>\n",
       "      <td>-0.288333</td>\n",
       "      <td>0.067353</td>\n",
       "      <td>-1.067079</td>\n",
       "      <td>0.181790</td>\n",
       "      <td>0.853063</td>\n",
       "      <td>0.754798</td>\n",
       "      <td>NaN</td>\n",
       "      <td>NaN</td>\n",
       "      <td>NaN</td>\n",
       "    </tr>\n",
       "    <tr>\n",
       "      <th>4</th>\n",
       "      <td>HiTS095726+015556</td>\n",
       "      <td>Blind15A_26_N8_1496_2317</td>\n",
       "      <td>149.361376</td>\n",
       "      <td>1.932343</td>\n",
       "      <td>0.972280</td>\n",
       "      <td>0.889344</td>\n",
       "      <td>0.050</td>\n",
       "      <td>0.175</td>\n",
       "      <td>0.625</td>\n",
       "      <td>0.150</td>\n",
       "      <td>...</td>\n",
       "      <td>0.269737</td>\n",
       "      <td>-0.035972</td>\n",
       "      <td>0.740878</td>\n",
       "      <td>-1.731678</td>\n",
       "      <td>0.089139</td>\n",
       "      <td>0.957841</td>\n",
       "      <td>0.948092</td>\n",
       "      <td>1.185192</td>\n",
       "      <td>0.894064</td>\n",
       "      <td>0.291128</td>\n",
       "    </tr>\n",
       "  </tbody>\n",
       "</table>\n",
       "<p>5 rows × 82 columns</p>\n",
       "</div>"
      ],
      "text/plain": [
       "                  ID                 internalID    raMedian  decMedian  \\\n",
       "0  HiTS095611+020452   Blind15A_26_N1_1715_0146  149.048038   2.081381   \n",
       "1  HiTS095645+021135   Blind15A_26_N1_0181_2093  149.190225   2.193068   \n",
       "2  HiTS095652+023537  Blind15A_26_S14_1446_0379  149.220445   2.593841   \n",
       "3  HiTS095702+023628  Blind15A_26_S14_1253_0945  149.261780   2.607883   \n",
       "4  HiTS095726+015556   Blind15A_26_N8_1496_2317  149.361376   1.932343   \n",
       "\n",
       "   Variable_prob  Periodic_prob  DSCT_Prob  EB_Prob  ROTVAR_Prob  RRLYR_Prob  \\\n",
       "0       0.523601       0.202651        NaN      NaN          NaN         NaN   \n",
       "1       0.564932       0.635018      0.400    0.100        0.375       0.125   \n",
       "2       0.962477       0.635836      0.025    0.125        0.750       0.100   \n",
       "3       0.532390       0.933333      0.550    0.225        0.050       0.175   \n",
       "4       0.972280       0.889344      0.050    0.175        0.625       0.150   \n",
       "\n",
       "   ...       Rcs      Skew  SlottedA_length SmallKurtosis       Std  StetsonK  \\\n",
       "0  ...  0.246009 -0.584446         0.134705      2.100608  0.032812  0.773151   \n",
       "1  ...  0.119267 -0.133774         0.067353     -0.444997  0.123052  0.841553   \n",
       "2  ...  0.227995 -0.317121         0.269410     -0.008631  0.067782  0.849505   \n",
       "3  ...  0.179956 -0.288333         0.067353     -1.067079  0.181790  0.853063   \n",
       "4  ...  0.269737 -0.035972         0.740878     -1.731678  0.089139  0.957841   \n",
       "\n",
       "   StetsonK_AC       g-i       g-r       r-i  \n",
       "0     0.738233  2.859381  1.439736  1.419645  \n",
       "1     0.815632  0.996040  0.769289  0.226751  \n",
       "2     0.846981  1.911452  1.484048  0.427403  \n",
       "3     0.754798       NaN       NaN       NaN  \n",
       "4     0.948092  1.185192  0.894064  0.291128  \n",
       "\n",
       "[5 rows x 82 columns]"
      ]
     },
     "execution_count": 5,
     "metadata": {},
     "output_type": "execute_result"
    }
   ],
   "source": [
    "hitsDataDir='/epyc/users/mrawls/premap2019/hits-dr1'\n",
    "hitsFilename='HiTS_DR1_variables_DM-dataset-subset.fits'\n",
    "hitsFilepath=os.path.join(hitsDataDir,hitsFilename)\n",
    "hitsTable=fits.open(hitsFilepath) # load data as an astropy fits thing\n",
    "hitsDf=pd.DataFrame(hitsTable[1].data) # turn data into a pandas dataframe\n",
    "hitsDf.head() # shows us what the dataframe looks like"
   ]
  },
  {
   "cell_type": "code",
   "execution_count": 7,
   "metadata": {},
   "outputs": [
    {
     "name": "stdout",
     "output_type": "stream",
     "text": [
      "165\n"
     ]
    },
    {
     "data": {
      "text/plain": [
       "Index(['ID', 'internalID', 'raMedian', 'decMedian', 'Variable_prob',\n",
       "       'Periodic_prob', 'DSCT_Prob', 'EB_Prob', 'ROTVAR_Prob', 'RRLYR_Prob',\n",
       "       'CV_Prob', 'QSO_Prob', 'SNe_Prob', 'Predicted_class', 'ID_feat',\n",
       "       'raMedian_feat', 'decMedian_feat', 'Amplitude', 'AndersonDarling',\n",
       "       'Autocor_length', 'Beyond1Std', 'CAR_mean', 'CAR_sigma', 'CAR_tau',\n",
       "       'Con', 'Eta_e', 'FluxPercentileRatioMid20', 'FluxPercentileRatioMid35',\n",
       "       'FluxPercentileRatioMid50', 'FluxPercentileRatioMid65',\n",
       "       'FluxPercentileRatioMid80', 'Freq1_harmonics_amplitude_0',\n",
       "       'Freq1_harmonics_amplitude_1', 'Freq1_harmonics_amplitude_2',\n",
       "       'Freq1_harmonics_amplitude_3', 'Freq1_harmonics_rel_phase_0',\n",
       "       'Freq1_harmonics_rel_phase_1', 'Freq1_harmonics_rel_phase_2',\n",
       "       'Freq1_harmonics_rel_phase_3', 'Freq2_harmonics_amplitude_0',\n",
       "       'Freq2_harmonics_amplitude_1', 'Freq2_harmonics_amplitude_2',\n",
       "       'Freq2_harmonics_amplitude_3', 'Freq2_harmonics_rel_phase_0',\n",
       "       'Freq2_harmonics_rel_phase_1', 'Freq2_harmonics_rel_phase_2',\n",
       "       'Freq2_harmonics_rel_phase_3', 'Freq3_harmonics_amplitude_0',\n",
       "       'Freq3_harmonics_amplitude_1', 'Freq3_harmonics_amplitude_2',\n",
       "       'Freq3_harmonics_amplitude_3', 'Freq3_harmonics_rel_phase_0',\n",
       "       'Freq3_harmonics_rel_phase_1', 'Freq3_harmonics_rel_phase_2',\n",
       "       'Freq3_harmonics_rel_phase_3', 'Gskew', 'LinearTrend', 'MaxSlope',\n",
       "       'Mean', 'Meanvariance', 'MedianAbsDev', 'MedianBRP', 'PairSlopeTrend',\n",
       "       'PercentAmplitude', 'PercentDifferenceFluxPercentile', 'PeriodGLS',\n",
       "       'PeriodLS', 'PeriodWMCC', 'Period_fit', 'Psi_CS', 'Psi_eta', 'Q31',\n",
       "       'Rcs', 'Skew', 'SlottedA_length', 'SmallKurtosis', 'Std', 'StetsonK',\n",
       "       'StetsonK_AC', 'g-i', 'g-r', 'r-i'],\n",
       "      dtype='object')"
      ]
     },
     "execution_count": 7,
     "metadata": {},
     "output_type": "execute_result"
    }
   ],
   "source": [
    "print(len(hitsDf))\n",
    "hitsDf.columns"
   ]
  },
  {
   "cell_type": "markdown",
   "metadata": {},
   "source": [
    "## Today's Goals\n",
    "1. Access HiTS light curve data and plot it for at least one variable object.\n",
    "2. Access LSST light curve data for the same object(s) and plot it too."
   ]
  },
  {
   "cell_type": "code",
   "execution_count": 22,
   "metadata": {},
   "outputs": [
    {
     "name": "stdout",
     "output_type": "stream",
     "text": [
      "['Blind15A', '26', 'N1', '1715', '0146']\n",
      "Blind15A_26\n",
      "/epyc/users/mrawls/premap2019/hits-dr1/light_curves/Blind15A_26/N1/Blind15A_26_N1_LC_50.tar.gz\n"
     ]
    }
   ],
   "source": [
    "testRow=hitsDf.iloc[0]\n",
    "tok = testRow['internalID'].split('_')\n",
    "print(tok)\n",
    "field = '_'.join([tok[0],tok[1]])\n",
    "print(field)\n",
    "ccd = tok[2]\n",
    "lightcurveTestFile = field + '_' + ccd + '_LC_50.tar.gz'\n",
    "lightcurveTestPath = os.path.join(hitsDataDir,'light_curves',field,ccd,lightcurveTestFile)\n",
    "print(lightcurveTestPath)\n"
   ]
  },
  {
   "cell_type": "code",
   "execution_count": 50,
   "metadata": {},
   "outputs": [],
   "source": [
    "def plot_hits(row,lcPath='/epyc/users/mrawls/premap2019/hits-dr1/light_curves'):\n",
    "    '''Plot light curves from HiTS DR1.\n",
    "    \n",
    "    Parameters\n",
    "    ----------\n",
    "    row : Pandas Dataframe row from DR1 source data\n",
    "    lcPath : Path on disk to light curves from DR1\n",
    "    '''\n",
    "    tok = row['internalID'].split('_')\n",
    "    field = '_'.join([tok[0],tok[1]])\n",
    "    ccd = tok[2]\n",
    "    lightcurveFile = field + '_' + ccd + '_LC_50.tar.gz'\n",
    "    tarball = tarfile.open(os.path.join(lcPath,field,ccd,lightcurveFile))\n",
    "    data = tarball.extractfile(str(row['internalID'])+ '_g.dat')\n",
    "    dfl = pd.read_csv(data,sep='\\t') # lead a file with a light curve data into a pandas dataframe\n",
    "    fig = plt.figure(figsize=(10,8))\n",
    "    plt.errorbar(dfl.MJD,dfl.MAG_AP1,dfl.MAGERR_AP1, marker='o',linestyle=':')\n",
    "    plt.xlabel('Time (MJD)')\n",
    "    plt.ylabel('magnitude')"
   ]
  },
  {
   "cell_type": "code",
   "execution_count": 51,
   "metadata": {},
   "outputs": [
    {
     "data": {
      "image/png": "[encoded data removed]",
      "text/plain": [
       "<Figure size 720x576 with 1 Axes>"
      ]
     },
     "metadata": {
      "needs_background": "light"
     },
     "output_type": "display_data"
    }
   ],
   "source": [
    "plot_hits(hitsDf.iloc[147])"
   ]
  },
  {
   "cell_type": "markdown",
   "metadata": {},
   "source": [
    "We made it thorough part 1 of our goals! We have a function that we can use to plot any of the 165 HiTS DR1 variable\n",
    "object light curves. We'll pick up from here next time."
   ]
  },
  {
   "cell_type": "code",
   "execution_count": null,
   "metadata": {},
   "outputs": [],
   "source": []
  }
 ],
 "metadata": {
  "kernelspec": {
   "display_name": "LSST Pre-MAP 2019",
   "language": "python",
   "name": "lsst-premap"
  },
  "language_info": {
   "codemirror_mode": {
    "name": "ipython",
    "version": 3
   },
   "file_extension": ".py",
   "mimetype": "text/x-python",
   "name": "python",
   "nbconvert_exporter": "python",
   "pygments_lexer": "ipython3",
   "version": "3.7.2"
  }
 },
 "nbformat": 4,
 "nbformat_minor": 2
}
